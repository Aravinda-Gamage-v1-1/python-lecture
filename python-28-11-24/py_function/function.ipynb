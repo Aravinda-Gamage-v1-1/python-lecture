{
 "cells": [
  {
   "cell_type": "code",
   "execution_count": 4,
   "metadata": {},
   "outputs": [
    {
     "name": "stdout",
     "output_type": "stream",
     "text": [
      "{'name': 'John', 'age': 25, 'city': 'Galle'} <class 'dict'>\n",
      "name John\n",
      "age 25\n",
      "city Galle\n"
     ]
    }
   ],
   "source": [
    "def arbitrary_keywords_argument(**kwargs):\n",
    "    print(kwargs, type(kwargs))\n",
    "    for key, value in kwargs.items():\n",
    "        print(key, value)\n",
    "arbitrary_keywords_argument(name = \"John\", age = 25, city = \"Galle\")"
   ]
  },
  {
   "cell_type": "code",
   "execution_count": 29,
   "metadata": {},
   "outputs": [
    {
     "name": "stdout",
     "output_type": "stream",
     "text": [
      "Employee Name: {name}\n",
      "age : 25\n",
      "department : IT\n",
      "salary : 45000\n",
      "{'name': 'Aravinda', 'age': 25, 'department': 'IT', 'salary': 45000}\n"
     ]
    }
   ],
   "source": [
    "#Exercise\n",
    "# Write a python function call employee_info that accept da required \"name\" parameter and arbitrary numbers of keyword argument represent additional details about the employee. The function should,\n",
    "# 1. print the employee name\n",
    "# 2. iterate throw the keyword argument and print each key value pair in the format \"<key>:<value>\"\n",
    "# modify the employee_info function to return a dictionary containing all the employee details\n",
    "\n",
    "def employee_info(name, **kwargs):\n",
    "    print(\"Employee Name: {name}\")\n",
    "    \n",
    "    for key, value in kwargs.items():\n",
    "        print(key, \":\", value)\n",
    "    \n",
    "    employee_details = {\"name\": name, **kwargs}\n",
    "    return employee_details\n",
    "\n",
    "employee_details = employee_info(\"Aravinda\", age=25, department=\"IT\", salary=45000)\n",
    "print(employee_details)\n"
   ]
  },
  {
   "cell_type": "code",
   "execution_count": 30,
   "metadata": {},
   "outputs": [
    {
     "name": "stdout",
     "output_type": "stream",
     "text": [
      "Student name:  Aravinda\n",
      "Highest Grade: 80\n",
      "Lowest Grade: 20\n",
      "Average Grade: 44.0\n",
      "Student name:  Aravinda\n",
      "No grades available\n"
     ]
    },
    {
     "ename": "TypeError",
     "evalue": "summarize_grades() missing 1 required positional argument: 'student_name'",
     "output_type": "error",
     "traceback": [
      "\u001b[1;31m---------------------------------------------------------------------------\u001b[0m",
      "\u001b[1;31mTypeError\u001b[0m                                 Traceback (most recent call last)",
      "Cell \u001b[1;32mIn[30], line 26\u001b[0m\n\u001b[0;32m     21\u001b[0m                                             \u001b[38;5;66;03m#Highest Grade: 80\u001b[39;00m\n\u001b[0;32m     22\u001b[0m                                             \u001b[38;5;66;03m#Lowest Grade: 20\u001b[39;00m\n\u001b[0;32m     23\u001b[0m                                             \u001b[38;5;66;03m#Average Grade: 44.0\u001b[39;00m\n\u001b[0;32m     25\u001b[0m summarize_grades(\u001b[38;5;124m\"\u001b[39m\u001b[38;5;124mAravinda\u001b[39m\u001b[38;5;124m\"\u001b[39m) \u001b[38;5;66;03m#No grades available\u001b[39;00m\n\u001b[1;32m---> 26\u001b[0m \u001b[43msummarize_grades\u001b[49m\u001b[43m(\u001b[49m\u001b[43m)\u001b[49m \u001b[38;5;66;03m#TypeError: summarize_grades() missing 1 required positional argument: 'student_name'\u001b[39;00m\n",
      "\u001b[1;31mTypeError\u001b[0m: summarize_grades() missing 1 required positional argument: 'student_name'"
     ]
    }
   ],
   "source": [
    "# write a python function called \"summarize_grades\" that accept a student's names as a mandatory argument and an arbitrary numbers of grade  the function should,  \n",
    "# 1. Print the student's names \n",
    "# 2. Calculate and print the highest grade, lowest grade and the average garde from the provided scores.\n",
    "# 3. If no grade are provided you should print \"no grade available\"\n",
    "\n",
    "def summarize_grades(student_name, *grades):\n",
    "    print(\"Student name: \",student_name)\n",
    "\n",
    "    if grades:\n",
    "        highest_grade = max(grades) \n",
    "        lowest_grade = min(grades) \n",
    "        average_grade = sum(grades) / len(grades) \n",
    "        print(f\"Highest Grade: {highest_grade}\") \n",
    "        print(f\"Lowest Grade: {lowest_grade}\") \n",
    "        print(f\"Average Grade: {sum(grades)/len(grades)}\") \n",
    "\n",
    "    else: \n",
    "        print(\"No grades available\")\n",
    "\n",
    "summarize_grades(\"Aravinda\",20,40,50,30,80) #Student name:  Aravinda\n",
    "                                            #Highest Grade: 80\n",
    "                                            #Lowest Grade: 20\n",
    "                                            #Average Grade: 44.0\n",
    "\n",
    "summarize_grades(\"Aravinda\") #No grades available\n",
    "summarize_grades() #TypeError: summarize_grades() missing 1 required positional argument: 'student_name'"
   ]
  },
  {
   "cell_type": "code",
   "execution_count": null,
   "metadata": {},
   "outputs": [
    {
     "name": "stdout",
     "output_type": "stream",
     "text": [
      "<map object at 0x00000219A1092560> <class 'map'>\n",
      "[25, 16, 25, 64, 81, 4]\n"
     ]
    }
   ],
   "source": [
    "#Built in functions\n",
    "#map(function, iterable)\n",
    "\n",
    "my_list = [5,4,5,8,9,2]\n",
    "\n",
    "def cal_square(x):\n",
    "    return(x*x)\n",
    "\n",
    "result = map(cal_square, my_list)\n",
    "\n",
    "print(result, type(result))\n",
    "print(list(result))"
   ]
  },
  {
   "cell_type": "code",
   "execution_count": 41,
   "metadata": {},
   "outputs": [
    {
     "name": "stdout",
     "output_type": "stream",
     "text": [
      "[14, 11, 11, 7, 17]\n"
     ]
    }
   ],
   "source": [
    "my_list_1 = [10,8,5,6,8]\n",
    "my_list_2 = [4,3,6,1,9]\n",
    "\n",
    "def cal_sum(x, y):\n",
    "    return x + y\n",
    "\n",
    "result = map(cal_sum, my_list_1, my_list_2)\n",
    "\n",
    "print(list(result))"
   ]
  },
  {
   "cell_type": "code",
   "execution_count": null,
   "metadata": {},
   "outputs": [
    {
     "name": "stdout",
     "output_type": "stream",
     "text": [
      "[68.0, 86.0, 77.0, 104.0, 59.0]\n"
     ]
    }
   ],
   "source": [
    "#You have a list of integers representing temperature in celsius \n",
    "#temperatures = []\n",
    "#Write a python program using map function to convert these temperatures in to fahrenheit use the formula.\n",
    "#fahrenheit = celsius * 9/5 + 32\n",
    "\n",
    "temperatures = [20, 30, 25, 40, 15]\n",
    "\n",
    "def celsius_to_fahrenheit(celsius): \n",
    "    return celsius * 9/5 + 32 \n",
    "temperatures_fahrenheit = list(map(celsius_to_fahrenheit, temperatures))\n",
    "\n",
    "print(temperatures_fahrenheit)"
   ]
  },
  {
   "cell_type": "code",
   "execution_count": null,
   "metadata": {},
   "outputs": [
    {
     "name": "stdout",
     "output_type": "stream",
     "text": [
      "<filter object at 0x00000219A100E9E0> <class 'filter'>\n",
      "[8, 10, 6]\n"
     ]
    }
   ],
   "source": [
    "#filter(function, iterable)\n",
    "#return = boolean (true, false)\n",
    "\n",
    "my_list_1 = [5,8,10,9,6,3]\n",
    "\n",
    "def check_even(x):\n",
    "    return x%2==0\n",
    "\n",
    "result = filter(check_even, my_list_1)\n",
    "print(result, type(result))\n",
    "print(list(result))"
   ]
  },
  {
   "cell_type": "code",
   "execution_count": 49,
   "metadata": {},
   "outputs": [
    {
     "name": "stdout",
     "output_type": "stream",
     "text": [
      "11\n",
      "10\n"
     ]
    }
   ],
   "source": [
    "#Lambda function\n",
    "add = lambda x,y : x+y\n",
    "print(add(3,8))\n",
    "\n",
    "result = (lambda x,y: x+y)(4,6)\n",
    "print(result)"
   ]
  },
  {
   "cell_type": "code",
   "execution_count": 52,
   "metadata": {},
   "outputs": [
    {
     "name": "stdout",
     "output_type": "stream",
     "text": [
      "64\n",
      "25\n"
     ]
    }
   ],
   "source": [
    "#Write lambda function to return the power of 2 of a given number.\n",
    "\n",
    "power_of_2 = lambda x: x ** 2\n",
    "print(power_of_2(8))\n",
    "\n",
    "power_of_2 = (lambda x: x ** 2)(5)\n",
    "print(power_of_2)"
   ]
  },
  {
   "cell_type": "code",
   "execution_count": 68,
   "metadata": {},
   "outputs": [
    {
     "name": "stdout",
     "output_type": "stream",
     "text": [
      "[('Alice', 23), ('Andres', 25)]\n"
     ]
    }
   ],
   "source": [
    "#write a python program that,\n",
    "#1. take a list of tuples where each tuple contains a name(string) and age(integer).\n",
    "#2. use a lambda function to filter out the tuple where the age is less than 18.\n",
    "\n",
    "people = [(\"Alice\", 23),(\"John\",17),(\"Andres\",25),(\"Kate\",15)]\n",
    "\n",
    "print(list(filter(lambda people: people[1] >= 18, people)))"
   ]
  },
  {
   "cell_type": "code",
   "execution_count": 72,
   "metadata": {},
   "outputs": [
    {
     "name": "stdout",
     "output_type": "stream",
     "text": [
      "16\n"
     ]
    }
   ],
   "source": [
    "def my_func(n):\n",
    "    return lambda a: a * n\n",
    "\n",
    "mydoubler = my_func(4)\n",
    "print(mydoubler(4))"
   ]
  },
  {
   "cell_type": "code",
   "execution_count": 90,
   "metadata": {},
   "outputs": [
    {
     "name": "stdout",
     "output_type": "stream",
     "text": [
      "9\n"
     ]
    }
   ],
   "source": [
    "larger = (lambda x, y: x if x > y else y)\n",
    "print(larger(9,8))"
   ]
  },
  {
   "cell_type": "code",
   "execution_count": 108,
   "metadata": {},
   "outputs": [
    {
     "name": "stdout",
     "output_type": "stream",
     "text": [
      "1\n"
     ]
    }
   ],
   "source": [
    "#Recursive functions\n",
    "#Following is an example of a recursive function to fine the factorial of an integer\n",
    "\n",
    "def find_factorial(n):\n",
    "    result = 1\n",
    "    for i in range(1, n + 1):\n",
    "        result *= i\n",
    "    return result\n",
    "\n",
    "print(find_factorial(0))\n"
   ]
  },
  {
   "cell_type": "code",
   "execution_count": 116,
   "metadata": {},
   "outputs": [
    {
     "name": "stdout",
     "output_type": "stream",
     "text": [
      "The factorial of 1000 is 402387260077093773543702433923003985719374864210714632543799910429938512398629020592044208486969404800479988610197196058631666872994808558901323829669944590997424504087073759918823627727188732519779505950995276120874975462497043601418278094646496291056393887437886487337119181045825783647849977012476632889835955735432513185323958463075557409114262417474349347553428646576611667797396668820291207379143853719588249808126867838374559731746136085379534524221586593201928090878297308431392844403281231558611036976801357304216168747609675871348312025478589320767169132448426236131412508780208000261683151027341827977704784635868170164365024153691398281264810213092761244896359928705114964975419909342221566832572080821333186116811553615836546984046708975602900950537616475847728421889679646244945160765353408198901385442487984959953319101723355556602139450399736280750137837615307127761926849034352625200015888535147331611702103968175921510907788019393178114194545257223865541461062892187960223838971476088506276862967146674697562911234082439208160153780889893964518263243671616762179168909779911903754031274622289988005195444414282012187361745992642956581746628302955570299024324153181617210465832036786906117260158783520751516284225540265170483304226143974286933061690897968482590125458327168226458066526769958652682272807075781391858178889652208164348344825993266043367660176999612831860788386150279465955131156552036093988180612138558600301435694527224206344631797460594682573103790084024432438465657245014402821885252470935190620929023136493273497565513958720559654228749774011413346962715422845862377387538230483865688976461927383814900140767310446640259899490222221765904339901886018566526485061799702356193897017860040811889729918311021171229845901641921068884387121855646124960798722908519296819372388642614839657382291123125024186649353143970137428531926649875337218940694281434118520158014123344828015051399694290153483077644569099073152433278288269864602789864321139083506217095002597389863554277196742822248757586765752344220207573630569498825087968928162753848863396909959826280956121450994871701244516461260379029309120889086942028510640182154399457156805941872748998094254742173582401063677404595741785160829230135358081840096996372524230560855903700624271243416909004153690105933983835777939410970027753472000000000000000000000000000000000000000000000000000000000000000000000000000000000000000000000000000000000000000000000000000000000000000000000000000000000000000000000000000000000000000000000000000000000000000000000000000000000000000000000000000000000\n"
     ]
    }
   ],
   "source": [
    "def find_factorial(x):\n",
    "    if x == 0 or x == 1:\n",
    "        return 1\n",
    "    else:\n",
    "        return (x * find_factorial(x-1))\n",
    "    \n",
    "num =1000\n",
    "print(\"The factorial of\", num, \"is\", find_factorial(num))"
   ]
  },
  {
   "cell_type": "code",
   "execution_count": null,
   "metadata": {},
   "outputs": [],
   "source": [
    "#Let's try few examples with both (Iterative and Recursive) approaches.\n",
    "#1. Calculate the sum of all the elements in an arrays or list\n",
    "#2. Implement a recursive funvtion to genente nth number in the fibonacci sequence. The Fibonacci sequence. The fibonacci sequence starts with 0 and 1, and each subsequent number is the sum of the two preceding ones.\n",
    "lst=[4,5,2,6,7,]\n",
    "def recursive_sum(lst): \n",
    "    if not lst:\n",
    "        return 0\n",
    "    \n",
    "    return lst[0] + recursive_sum(lst[1:])\n"
   ]
  }
 ],
 "metadata": {
  "kernelspec": {
   "display_name": "Python 3",
   "language": "python",
   "name": "python3"
  },
  "language_info": {
   "codemirror_mode": {
    "name": "ipython",
    "version": 3
   },
   "file_extension": ".py",
   "mimetype": "text/x-python",
   "name": "python",
   "nbconvert_exporter": "python",
   "pygments_lexer": "ipython3",
   "version": "3.13.0"
  }
 },
 "nbformat": 4,
 "nbformat_minor": 2
}
