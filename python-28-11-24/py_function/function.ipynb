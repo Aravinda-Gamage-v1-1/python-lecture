{
 "cells": [
  {
   "cell_type": "code",
   "execution_count": 4,
   "metadata": {},
   "outputs": [
    {
     "name": "stdout",
     "output_type": "stream",
     "text": [
      "{'name': 'John', 'age': 25, 'city': 'Galle'} <class 'dict'>\n",
      "name John\n",
      "age 25\n",
      "city Galle\n"
     ]
    }
   ],
   "source": [
    "def arbitrary_keywords_argument(**kwargs):\n",
    "    print(kwargs, type(kwargs))\n",
    "    for key, value in kwargs.items():\n",
    "        print(key, value)\n",
    "arbitrary_keywords_argument(name = \"John\", age = 25, city = \"Galle\")"
   ]
  },
  {
   "cell_type": "code",
   "execution_count": 29,
   "metadata": {},
   "outputs": [
    {
     "name": "stdout",
     "output_type": "stream",
     "text": [
      "Employee Name: {name}\n",
      "age : 25\n",
      "department : IT\n",
      "salary : 45000\n",
      "{'name': 'Aravinda', 'age': 25, 'department': 'IT', 'salary': 45000}\n"
     ]
    }
   ],
   "source": [
    "#Exercise\n",
    "# Write a python function call employee_info that accept da required \"name\" parameter and arbitrary numbers of keyword argument represent additional details about the employee. The function should,\n",
    "# 1. print the employee name\n",
    "# 2. iterate throw the keyword argument and print each key value pair in the format \"<key>:<value>\"\n",
    "# modify the employee_info function to return a dictionary containing all the employee details\n",
    "\n",
    "def employee_info(name, **kwargs):\n",
    "    print(\"Employee Name: {name}\")\n",
    "    \n",
    "    for key, value in kwargs.items():\n",
    "        print(key, \":\", value)\n",
    "    \n",
    "    employee_details = {\"name\": name, **kwargs}\n",
    "    return employee_details\n",
    "\n",
    "employee_details = employee_info(\"Aravinda\", age=25, department=\"IT\", salary=45000)\n",
    "print(employee_details)\n"
   ]
  },
  {
   "cell_type": "code",
   "execution_count": 30,
   "metadata": {},
   "outputs": [
    {
     "name": "stdout",
     "output_type": "stream",
     "text": [
      "Student name:  Aravinda\n",
      "Highest Grade: 80\n",
      "Lowest Grade: 20\n",
      "Average Grade: 44.0\n",
      "Student name:  Aravinda\n",
      "No grades available\n"
     ]
    },
    {
     "ename": "TypeError",
     "evalue": "summarize_grades() missing 1 required positional argument: 'student_name'",
     "output_type": "error",
     "traceback": [
      "\u001b[1;31m---------------------------------------------------------------------------\u001b[0m",
      "\u001b[1;31mTypeError\u001b[0m                                 Traceback (most recent call last)",
      "Cell \u001b[1;32mIn[30], line 26\u001b[0m\n\u001b[0;32m     21\u001b[0m                                             \u001b[38;5;66;03m#Highest Grade: 80\u001b[39;00m\n\u001b[0;32m     22\u001b[0m                                             \u001b[38;5;66;03m#Lowest Grade: 20\u001b[39;00m\n\u001b[0;32m     23\u001b[0m                                             \u001b[38;5;66;03m#Average Grade: 44.0\u001b[39;00m\n\u001b[0;32m     25\u001b[0m summarize_grades(\u001b[38;5;124m\"\u001b[39m\u001b[38;5;124mAravinda\u001b[39m\u001b[38;5;124m\"\u001b[39m) \u001b[38;5;66;03m#No grades available\u001b[39;00m\n\u001b[1;32m---> 26\u001b[0m \u001b[43msummarize_grades\u001b[49m\u001b[43m(\u001b[49m\u001b[43m)\u001b[49m \u001b[38;5;66;03m#TypeError: summarize_grades() missing 1 required positional argument: 'student_name'\u001b[39;00m\n",
      "\u001b[1;31mTypeError\u001b[0m: summarize_grades() missing 1 required positional argument: 'student_name'"
     ]
    }
   ],
   "source": [
    "# write a python function called \"summarize_grades\" that accept a student's names as a mandatory argument and an arbitrary numbers of grade  the function should,  \n",
    "# 1. Print the student's names \n",
    "# 2. Calculate and print the highest grade, lowest grade and the average garde from the provided scores.\n",
    "# 3. If no grade are provided you should print \"no grade available\"\n",
    "\n",
    "def summarize_grades(student_name, *grades):\n",
    "    print(\"Student name: \",student_name)\n",
    "\n",
    "    if grades:\n",
    "        highest_grade = max(grades) \n",
    "        lowest_grade = min(grades) \n",
    "        average_grade = sum(grades) / len(grades) \n",
    "        print(f\"Highest Grade: {highest_grade}\") \n",
    "        print(f\"Lowest Grade: {lowest_grade}\") \n",
    "        print(f\"Average Grade: {sum(grades)/len(grades)}\") \n",
    "\n",
    "    else: \n",
    "        print(\"No grades available\")\n",
    "\n",
    "summarize_grades(\"Aravinda\",20,40,50,30,80) #Student name:  Aravinda\n",
    "                                            #Highest Grade: 80\n",
    "                                            #Lowest Grade: 20\n",
    "                                            #Average Grade: 44.0\n",
    "\n",
    "summarize_grades(\"Aravinda\") #No grades available\n",
    "summarize_grades() #TypeError: summarize_grades() missing 1 required positional argument: 'student_name'"
   ]
  },
  {
   "cell_type": "code",
   "execution_count": null,
   "metadata": {},
   "outputs": [
    {
     "name": "stdout",
     "output_type": "stream",
     "text": [
      "23\n"
     ]
    }
   ],
   "source": [
    "#Built in functions\n"
   ]
  }
 ],
 "metadata": {
  "kernelspec": {
   "display_name": "Python 3",
   "language": "python",
   "name": "python3"
  },
  "language_info": {
   "codemirror_mode": {
    "name": "ipython",
    "version": 3
   },
   "file_extension": ".py",
   "mimetype": "text/x-python",
   "name": "python",
   "nbconvert_exporter": "python",
   "pygments_lexer": "ipython3",
   "version": "3.13.0"
  }
 },
 "nbformat": 4,
 "nbformat_minor": 2
}
